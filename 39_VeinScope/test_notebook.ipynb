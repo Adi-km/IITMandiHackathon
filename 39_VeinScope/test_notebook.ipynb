{
 "cells": [
  {
   "cell_type": "code",
   "execution_count": 4,
   "id": "a5a5b60c",
   "metadata": {},
   "outputs": [],
   "source": [
    "import stage1\n",
    "import stage2\n",
    "from PIL import Image\n",
    "import os\n",
    "from metrics import mse, ssim_score, psnr, ncc, dice_score\n",
    "import torch\n",
    "import numpy as np\n",
    "from tqdm import tqdm \n",
    "import cv2\n",
    "import matplotlib.pyplot as plt"
   ]
  },
  {
   "cell_type": "code",
   "execution_count": 5,
   "id": "ddc6a970",
   "metadata": {},
   "outputs": [],
   "source": [
    "def get_metrics(image_root, gt_root):\n",
    "    if not os.path.exists(image_root) or not os.path.exists(gt_root):\n",
    "        print(\"Incorrect Path!\")\n",
    "        return\n",
    "\n",
    "    images = sorted([f for f in os.listdir(image_root)])\n",
    "    gts = sorted([f for f in os.listdir(gt_root)])\n",
    "\n",
    "    if len(images) != len(gts):\n",
    "        print(\"Number of Images mismatch with GT\")\n",
    "        return\n",
    "    \n",
    "    if not os.path.exists(\"sample_data/preds\"):\n",
    "        os.mkdir(\"sample_data/preds\")\n",
    "    \n",
    "    model1 = stage1.Stage_1()\n",
    "    model2 = stage2.Stage2()\n",
    "\n",
    "    model1.model.eval()\n",
    "    model2.unet_model.eval()\n",
    "\n",
    "    r_mse = 0.0\n",
    "    r_ssim = 0.0\n",
    "    r_psnr = 0.0\n",
    "    r_ncc = 0.0\n",
    "    r_dice = 0.0\n",
    "\n",
    "    for idx in tqdm(range(len(images)), desc=\"Computing metrics\"):\n",
    "        img_name = images[idx]\n",
    "        img_path = os.path.join(image_root, img_name)\n",
    "        img = Image.open(img_path).convert('RGB')\n",
    "        size_og = img.size\n",
    "\n",
    "        with torch.no_grad():\n",
    "            masked_img = model1.forward(img)\n",
    "            pred = model2.forward(masked_img, size_og)\n",
    "\n",
    "        gt_name = gts[idx]\n",
    "        gt_path = os.path.join(gt_root, gt_name)\n",
    "        gt = np.array(Image.open(gt_path).convert('1'))\n",
    "\n",
    "        gt = gt.astype(np.float32)\n",
    "        pred = torch.from_numpy(pred).float().cpu().numpy()\n",
    "\n",
    "        pred = (pred > 0.4).astype(float)\n",
    "\n",
    "        r_mse += mse(pred, gt)\n",
    "        r_ssim += ssim_score(pred, gt)\n",
    "        r_psnr += psnr(pred, gt)\n",
    "        r_ncc += ncc(pred, gt)\n",
    "        r_dice += dice_score(pred, gt)\n",
    "\n",
    "    r_ncc /= len(images)\n",
    "    r_ssim /= len(images)\n",
    "    r_psnr /= len(images)\n",
    "    r_mse /= len(images)\n",
    "    r_dice /= len(images)\n",
    "    \n",
    "    return {\n",
    "        \"ssim\" : r_ssim,\n",
    "        \"psnr\" : r_psnr,\n",
    "        \"mse\" : r_mse,\n",
    "        \"ncc\" : r_ncc,\n",
    "        \"dice\": r_dice,\n",
    "    }\n"
   ]
  },
  {
   "cell_type": "code",
   "execution_count": 6,
   "id": "b1926aed",
   "metadata": {},
   "outputs": [
    {
     "name": "stderr",
     "output_type": "stream",
     "text": [
      "Computing metrics: 100%|██████████| 128/128 [03:53<00:00,  1.82s/it]"
     ]
    },
    {
     "name": "stdout",
     "output_type": "stream",
     "text": [
      "{'ssim': 0.9779788919104669, 'psnr': 70.22066102478281, 'mse': 0.007259247933862208, 'ncc': 0.534853588555341, 'dice': 0.533907647464024}\n"
     ]
    },
    {
     "name": "stderr",
     "output_type": "stream",
     "text": [
      "\n"
     ]
    }
   ],
   "source": [
    "metrics = get_metrics(\"sample_data/train\", \"sample_data/train_gt\")\n",
    "print(metrics)"
   ]
  }
 ],
 "metadata": {
  "kernelspec": {
   "display_name": "Python 3",
   "language": "python",
   "name": "python3"
  },
  "language_info": {
   "codemirror_mode": {
    "name": "ipython",
    "version": 3
   },
   "file_extension": ".py",
   "mimetype": "text/x-python",
   "name": "python",
   "nbconvert_exporter": "python",
   "pygments_lexer": "ipython3",
   "version": "3.11.8"
  }
 },
 "nbformat": 4,
 "nbformat_minor": 5
}
